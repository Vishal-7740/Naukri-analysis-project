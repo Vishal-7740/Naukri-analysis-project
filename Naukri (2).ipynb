{
 "cells": [
  {
   "cell_type": "code",
   "execution_count": 60,
   "id": "25296b9d-0772-4f29-8f94-85ca16d04861",
   "metadata": {},
   "outputs": [],
   "source": [
    "import pandas as pd\n",
    "import streamlit as st\n",
    "import pickle\n",
    "import numpy as np\n",
    "from sklearn.model_selection import train_test_split\n",
    "from sklearn.ensemble import RandomForestClassifier, RandomForestRegressor\n",
    "from sklearn.preprocessing import LabelEncoder\n",
    "import scipy.sparse\n",
    "import warnings\n",
    "warnings.filterwarnings('ignore')"
   ]
  },
  {
   "cell_type": "code",
   "execution_count": 62,
   "id": "03434481-8860-40f5-bc5e-547f7bab5261",
   "metadata": {},
   "outputs": [],
   "source": [
    "# df = pickle.load(open('Naukri_job.pkl','rb'))\n",
    "# df"
   ]
  },
  {
   "cell_type": "code",
   "execution_count": 66,
   "id": "5aa7c2b8-3264-438a-aa46-54ffa2d610a5",
   "metadata": {},
   "outputs": [],
   "source": [
    "# streamlit_job_search.py\n",
    "\n",
    "# Load dataset\n",
    "st.title(\"Model Deployment using Naukri CSV\")\n",
    "\n",
    "# st.write(\"Upload your CSV and deploy a basic ML model instantly!\")\n",
    "\n",
    "\n",
    "# Load your job dataset\n",
    "df = pd.read_csv('naukri.csv')  # <-- Update with your file\n",
    "\n",
    "# Show dataset\n",
    "st.subheader(\"Dataset Preview\")\n",
    "st.dataframe(df.head())\n",
    "\n",
    "# Choose target\n",
    "st.subheader(\"Select Target Column 🎯\")\n",
    "target = st.selectbox(\"Target Column\", df.columns)\n",
    "\n",
    "\n",
    "# Preprocess\n",
    "X = df.drop(columns=[target])\n",
    "y = df[target]\n",
    "\n",
    "# Handle categorical features\n",
    "cat_features = X.select_dtypes(include=['object']).columns.tolist()\n",
    "\n",
    "for col in cat_features:\n",
    "    le = LabelEncoder()\n",
    "    X[col] = le.fit_transform(X[col].astype(str))\n",
    "\n",
    "# Handle missing values\n",
    "X.fillna(0, inplace=True)\n",
    "\n",
    "# Train-test split\n",
    "X_train, X_test, y_train, y_test = train_test_split(X, y, train_size=0.77, random_state=5)\n",
    "\n",
    "\n",
    "# Check if classification or regression\n",
    "if y.dtype == 'object' or len(y.unique()) <= 20:\n",
    "    model = RandomForestClassifier()\n",
    "    problem_type = \"Classification\"\n",
    "else:\n",
    "    model = RandomForestRegressor()\n",
    "    problem_type = \"Regression\"\n",
    "\n",
    "# Train model\n",
    "model.fit(X_train, y_train)\n",
    "\n",
    "# Model trained\n",
    "st.success(f\"{problem_type} model trained successfully!\")\n",
    "\n",
    "# Input for prediction\n",
    "st.subheader(\"Make a Prediction 🎯\")\n",
    "\n",
    "\n",
    "input_data = {}\n",
    "for col in X.columns:\n",
    "    if col in cat_features:\n",
    "        unique_vals = df[col].unique().tolist()\n",
    "        input_val = st.selectbox(f\"Select {col}\", unique_vals)\n",
    "        le = LabelEncoder()\n",
    "        le.fit(df[col].astype(str))\n",
    "        input_val = le.transform([input_val])[0]\n",
    "    else:\n",
    "        input_val = st.number_input(f\"Input {col}\", value=float(X[col].mean()))\n",
    "    input_data[col] = input_val\n",
    "\n",
    "# Predict button\n",
    "if st.button(\"Predict\"):\n",
    "    input_df = pd.DataFrame([input_data])\n",
    "    prediction = model.predict(input_df)[0]\n",
    "    st.success(f\"Prediction: {prediction}\")\n",
    "\n"
   ]
  },
  {
   "cell_type": "code",
   "execution_count": null,
   "id": "73538de4-1877-45e6-aef6-e547fa2213e6",
   "metadata": {},
   "outputs": [],
   "source": []
  },
  {
   "cell_type": "code",
   "execution_count": null,
   "id": "458a3905-cb90-493a-a8b6-e4e6fb5be3ae",
   "metadata": {},
   "outputs": [],
   "source": []
  },
  {
   "cell_type": "code",
   "execution_count": null,
   "id": "bf90cec7-1563-42a7-9b00-d324e41c5ea3",
   "metadata": {},
   "outputs": [],
   "source": []
  },
  {
   "cell_type": "code",
   "execution_count": null,
   "id": "7d274af1-f7c1-4b10-983a-0cc3dbb4fac4",
   "metadata": {},
   "outputs": [],
   "source": []
  },
  {
   "cell_type": "code",
   "execution_count": null,
   "id": "f7e3ee2d-966d-4afd-8360-5935f7892953",
   "metadata": {},
   "outputs": [],
   "source": []
  }
 ],
 "metadata": {
  "kernelspec": {
   "display_name": "Python [conda env:base] *",
   "language": "python",
   "name": "conda-base-py"
  },
  "language_info": {
   "codemirror_mode": {
    "name": "ipython",
    "version": 3
   },
   "file_extension": ".py",
   "mimetype": "text/x-python",
   "name": "python",
   "nbconvert_exporter": "python",
   "pygments_lexer": "ipython3",
   "version": "3.12.7"
  }
 },
 "nbformat": 4,
 "nbformat_minor": 5
}
